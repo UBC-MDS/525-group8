{
 "cells": [
  {
   "cell_type": "markdown",
   "id": "stopped-catalog",
   "metadata": {},
   "source": [
    "# DSCI: 525 Milestone 1 - Group 8"
   ]
  },
  {
   "cell_type": "markdown",
   "id": "swiss-exposure",
   "metadata": {},
   "source": [
    "### Imports"
   ]
  },
  {
   "cell_type": "code",
   "execution_count": 1,
   "id": "ambient-missouri",
   "metadata": {},
   "outputs": [],
   "source": [
    "import re\n",
    "import os\n",
    "import glob\n",
    "import zipfile\n",
    "import requests\n",
    "from urllib.request import urlretrieve\n",
    "import json\n",
    "import pandas as pd\n",
    "from memory_profiler import memory_usage"
   ]
  },
  {
   "cell_type": "code",
   "execution_count": 4,
   "id": "driven-strengthening",
   "metadata": {},
   "outputs": [],
   "source": [
    "%load_ext rpy2.ipython\n",
    "%load_ext memory_profiler"
   ]
  },
  {
   "cell_type": "markdown",
   "id": "swedish-robert",
   "metadata": {},
   "source": [
    "### Downloading the data"
   ]
  },
  {
   "cell_type": "code",
   "execution_count": 2,
   "id": "smaller-sailing",
   "metadata": {},
   "outputs": [],
   "source": [
    "# Santiago"
   ]
  },
  {
   "cell_type": "markdown",
   "id": "comic-oregon",
   "metadata": {},
   "source": [
    "### Combining data CSVs"
   ]
  },
  {
   "cell_type": "code",
   "execution_count": 3,
   "id": "wound-brief",
   "metadata": {},
   "outputs": [],
   "source": [
    "# Santiago"
   ]
  },
  {
   "cell_type": "markdown",
   "id": "respected-dietary",
   "metadata": {},
   "source": [
    "### Load the combined CSV to memory and perform a simple EDA"
   ]
  },
  {
   "cell_type": "code",
   "execution_count": 5,
   "id": "closed-amendment",
   "metadata": {},
   "outputs": [],
   "source": [
    "# Daniel and Rui"
   ]
  },
  {
   "cell_type": "markdown",
   "id": "alone-equation",
   "metadata": {},
   "source": [
    "### Perform a simple EDA in R"
   ]
  },
  {
   "cell_type": "code",
   "execution_count": 6,
   "id": "neural-strength",
   "metadata": {},
   "outputs": [],
   "source": [
    "# Rachel and Rui"
   ]
  },
  {
   "cell_type": "code",
   "execution_count": null,
   "id": "sacred-occasions",
   "metadata": {},
   "outputs": [],
   "source": []
  }
 ],
 "metadata": {
  "kernelspec": {
   "display_name": "Python [conda env:525]",
   "language": "python",
   "name": "conda-env-525-py"
  },
  "language_info": {
   "codemirror_mode": {
    "name": "ipython",
    "version": 3
   },
   "file_extension": ".py",
   "mimetype": "text/x-python",
   "name": "python",
   "nbconvert_exporter": "python",
   "pygments_lexer": "ipython3",
   "version": "3.9.2"
  }
 },
 "nbformat": 4,
 "nbformat_minor": 5
}
