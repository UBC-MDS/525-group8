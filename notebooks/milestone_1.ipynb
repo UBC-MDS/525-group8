{
 "cells": [
  {
   "cell_type": "markdown",
   "id": "flying-investing",
   "metadata": {},
   "source": [
    "# DSCI: 525 Milestone 1 - Group 8"
   ]
  },
  {
   "cell_type": "markdown",
   "id": "extraordinary-bargain",
   "metadata": {},
   "source": [
    "### Imports"
   ]
  },
  {
   "cell_type": "code",
   "execution_count": 1,
   "id": "vocational-there",
   "metadata": {},
   "outputs": [],
   "source": [
    "import re\n",
    "import os\n",
    "import glob\n",
    "import zipfile\n",
    "import requests\n",
    "from urllib.request import urlretrieve\n",
    "import json\n",
    "import pandas as pd\n",
    "from memory_profiler import memory_usage"
   ]
  },
  {
   "cell_type": "code",
   "execution_count": 2,
   "id": "domestic-investing",
   "metadata": {},
   "outputs": [
    {
     "name": "stderr",
     "output_type": "stream",
     "text": [
      "C:\\Users\\SantiagoRugelesSch\\miniconda3\\envs\\525\\lib\\site-packages\\rpy2\\robjects\\packages.py:366: UserWarning: The symbol 'quartz' is not in this R namespace/package.\n",
      "  warnings.warn(\n"
     ]
    }
   ],
   "source": [
    "%load_ext rpy2.ipython\n",
    "%load_ext memory_profiler"
   ]
  },
  {
   "cell_type": "markdown",
   "id": "approximate-absence",
   "metadata": {},
   "source": [
    "### Downloading the data"
   ]
  },
  {
   "cell_type": "code",
   "execution_count": 3,
   "id": "imperial-desert",
   "metadata": {},
   "outputs": [
    {
     "data": {
      "text/plain": [
       "'C:\\\\Users\\\\SantiagoRugelesSch\\\\DSCI_525\\\\525-group8\\\\notebooks'"
      ]
     },
     "execution_count": 3,
     "metadata": {},
     "output_type": "execute_result"
    }
   ],
   "source": [
    "%pwd"
   ]
  },
  {
   "cell_type": "code",
   "execution_count": 4,
   "id": "unlike-accreditation",
   "metadata": {},
   "outputs": [
    {
     "name": "stdout",
     "output_type": "stream",
     "text": [
      "C:\\Users\\SantiagoRugelesSch\\DSCI_525\\525-group8\n"
     ]
    }
   ],
   "source": [
    "%cd ~/DSCI_525/525-group8"
   ]
  },
  {
   "cell_type": "code",
   "execution_count": 13,
   "id": "international-anthony",
   "metadata": {},
   "outputs": [],
   "source": [
    "article_id = 14096681\n",
    "url = f\"https://api.figshare.com/v2/articles/{article_id}\"\n",
    "headers = {\"Content-Type\": \"application/json\"}\n",
    "output_directory = \"dailyrainfall/\""
   ]
  },
  {
   "cell_type": "code",
   "execution_count": 14,
   "id": "virtual-abortion",
   "metadata": {},
   "outputs": [
    {
     "data": {
      "text/plain": [
       "[{'is_link_only': False,\n",
       "  'name': 'daily_rainfall_2014.png',\n",
       "  'supplied_md5': 'fd32a2ffde300a31f8d63b1825d47e5e',\n",
       "  'computed_md5': 'fd32a2ffde300a31f8d63b1825d47e5e',\n",
       "  'id': 26579150,\n",
       "  'download_url': 'https://ndownloader.figshare.com/files/26579150',\n",
       "  'size': 58863},\n",
       " {'is_link_only': False,\n",
       "  'name': 'environment.yml',\n",
       "  'supplied_md5': '060b2020017eed93a1ee7dd8c65b2f34',\n",
       "  'computed_md5': '060b2020017eed93a1ee7dd8c65b2f34',\n",
       "  'id': 26579171,\n",
       "  'download_url': 'https://ndownloader.figshare.com/files/26579171',\n",
       "  'size': 192},\n",
       " {'is_link_only': False,\n",
       "  'name': 'README.md',\n",
       "  'supplied_md5': '61858c6cc0e6a6d6663a7e4c75bbd88c',\n",
       "  'computed_md5': '61858c6cc0e6a6d6663a7e4c75bbd88c',\n",
       "  'id': 26586554,\n",
       "  'download_url': 'https://ndownloader.figshare.com/files/26586554',\n",
       "  'size': 5422},\n",
       " {'is_link_only': False,\n",
       "  'name': 'data.zip',\n",
       "  'supplied_md5': 'b517383f76e77bd03755a63a8ff83ee9',\n",
       "  'computed_md5': 'b517383f76e77bd03755a63a8ff83ee9',\n",
       "  'id': 26766812,\n",
       "  'download_url': 'https://ndownloader.figshare.com/files/26766812',\n",
       "  'size': 814041183},\n",
       " {'is_link_only': False,\n",
       "  'name': 'get_data.py',\n",
       "  'supplied_md5': '7829028495fd9dec9680ea013474afa6',\n",
       "  'computed_md5': '7829028495fd9dec9680ea013474afa6',\n",
       "  'id': 26766815,\n",
       "  'download_url': 'https://ndownloader.figshare.com/files/26766815',\n",
       "  'size': 4113}]"
      ]
     },
     "execution_count": 14,
     "metadata": {},
     "output_type": "execute_result"
    }
   ],
   "source": [
    "response = requests.request(\"GET\", url, headers=headers)\n",
    "data = json.loads(response.text)  # this contains all the articles data, feel free to check it out\n",
    "files = data[\"files\"]             # this is just the data about the files, which is what we want\n",
    "files"
   ]
  },
  {
   "cell_type": "code",
   "execution_count": 15,
   "id": "legendary-authority",
   "metadata": {},
   "outputs": [
    {
     "name": "stdout",
     "output_type": "stream",
     "text": [
      "Wall time: 2min 36s\n"
     ]
    }
   ],
   "source": [
    "%%time\n",
    "files_to_dl = [\"data.zip\"]  # feel free to add other files here\n",
    "for file in files:\n",
    "    if file[\"name\"] in files_to_dl:\n",
    "        os.makedirs(output_directory, exist_ok=True)\n",
    "        urlretrieve(file[\"download_url\"], output_directory + file[\"name\"])"
   ]
  },
  {
   "cell_type": "code",
   "execution_count": 16,
   "id": "distinct-proof",
   "metadata": {},
   "outputs": [
    {
     "name": "stdout",
     "output_type": "stream",
     "text": [
      "Wall time: 1min 27s\n"
     ]
    }
   ],
   "source": [
    "%%time\n",
    "with zipfile.ZipFile(os.path.join(output_directory, \"data.zip\"), 'r') as f:\n",
    "    f.extractall(output_directory)"
   ]
  },
  {
   "cell_type": "markdown",
   "id": "under-seeking",
   "metadata": {},
   "source": [
    "### Combining data CSVs"
   ]
  },
  {
   "cell_type": "code",
   "execution_count": 5,
   "id": "intimate-drilling",
   "metadata": {},
   "outputs": [
    {
     "data": {
      "text/html": [
       "<div>\n",
       "<style scoped>\n",
       "    .dataframe tbody tr th:only-of-type {\n",
       "        vertical-align: middle;\n",
       "    }\n",
       "\n",
       "    .dataframe tbody tr th {\n",
       "        vertical-align: top;\n",
       "    }\n",
       "\n",
       "    .dataframe thead th {\n",
       "        text-align: right;\n",
       "    }\n",
       "</style>\n",
       "<table border=\"1\" class=\"dataframe\">\n",
       "  <thead>\n",
       "    <tr style=\"text-align: right;\">\n",
       "      <th></th>\n",
       "      <th>time</th>\n",
       "      <th>lat_min</th>\n",
       "      <th>lat_max</th>\n",
       "      <th>lon_min</th>\n",
       "      <th>lon_max</th>\n",
       "      <th>rain (mm/day)</th>\n",
       "    </tr>\n",
       "  </thead>\n",
       "  <tbody>\n",
       "    <tr>\n",
       "      <th>0</th>\n",
       "      <td>1889-01-01 12:00:00</td>\n",
       "      <td>-35.887649</td>\n",
       "      <td>-34.766162</td>\n",
       "      <td>141.1875</td>\n",
       "      <td>142.3125</td>\n",
       "      <td>4.265520e-17</td>\n",
       "    </tr>\n",
       "    <tr>\n",
       "      <th>1</th>\n",
       "      <td>1889-01-02 12:00:00</td>\n",
       "      <td>-35.887649</td>\n",
       "      <td>-34.766162</td>\n",
       "      <td>141.1875</td>\n",
       "      <td>142.3125</td>\n",
       "      <td>2.728501e-20</td>\n",
       "    </tr>\n",
       "    <tr>\n",
       "      <th>2</th>\n",
       "      <td>1889-01-03 12:00:00</td>\n",
       "      <td>-35.887649</td>\n",
       "      <td>-34.766162</td>\n",
       "      <td>141.1875</td>\n",
       "      <td>142.3125</td>\n",
       "      <td>5.221255e-24</td>\n",
       "    </tr>\n",
       "    <tr>\n",
       "      <th>3</th>\n",
       "      <td>1889-01-04 12:00:00</td>\n",
       "      <td>-35.887649</td>\n",
       "      <td>-34.766162</td>\n",
       "      <td>141.1875</td>\n",
       "      <td>142.3125</td>\n",
       "      <td>2.869350e-17</td>\n",
       "    </tr>\n",
       "    <tr>\n",
       "      <th>4</th>\n",
       "      <td>1889-01-05 12:00:00</td>\n",
       "      <td>-35.887649</td>\n",
       "      <td>-34.766162</td>\n",
       "      <td>141.1875</td>\n",
       "      <td>142.3125</td>\n",
       "      <td>2.290091e-15</td>\n",
       "    </tr>\n",
       "    <tr>\n",
       "      <th>...</th>\n",
       "      <td>...</td>\n",
       "      <td>...</td>\n",
       "      <td>...</td>\n",
       "      <td>...</td>\n",
       "      <td>...</td>\n",
       "      <td>...</td>\n",
       "    </tr>\n",
       "    <tr>\n",
       "      <th>3035335</th>\n",
       "      <td>2014-12-27 12:00:00</td>\n",
       "      <td>-30.280211</td>\n",
       "      <td>-29.158723</td>\n",
       "      <td>152.4375</td>\n",
       "      <td>153.5625</td>\n",
       "      <td>1.218327e+01</td>\n",
       "    </tr>\n",
       "    <tr>\n",
       "      <th>3035336</th>\n",
       "      <td>2014-12-28 12:00:00</td>\n",
       "      <td>-30.280211</td>\n",
       "      <td>-29.158723</td>\n",
       "      <td>152.4375</td>\n",
       "      <td>153.5625</td>\n",
       "      <td>6.209972e-01</td>\n",
       "    </tr>\n",
       "    <tr>\n",
       "      <th>3035337</th>\n",
       "      <td>2014-12-29 12:00:00</td>\n",
       "      <td>-30.280211</td>\n",
       "      <td>-29.158723</td>\n",
       "      <td>152.4375</td>\n",
       "      <td>153.5625</td>\n",
       "      <td>3.562820e-04</td>\n",
       "    </tr>\n",
       "    <tr>\n",
       "      <th>3035338</th>\n",
       "      <td>2014-12-30 12:00:00</td>\n",
       "      <td>-30.280211</td>\n",
       "      <td>-29.158723</td>\n",
       "      <td>152.4375</td>\n",
       "      <td>153.5625</td>\n",
       "      <td>4.175968e+01</td>\n",
       "    </tr>\n",
       "    <tr>\n",
       "      <th>3035339</th>\n",
       "      <td>2014-12-31 12:00:00</td>\n",
       "      <td>-30.280211</td>\n",
       "      <td>-29.158723</td>\n",
       "      <td>152.4375</td>\n",
       "      <td>153.5625</td>\n",
       "      <td>1.295304e-03</td>\n",
       "    </tr>\n",
       "  </tbody>\n",
       "</table>\n",
       "<p>3035340 rows × 6 columns</p>\n",
       "</div>"
      ],
      "text/plain": [
       "                       time    lat_min    lat_max   lon_min   lon_max  \\\n",
       "0       1889-01-01 12:00:00 -35.887649 -34.766162  141.1875  142.3125   \n",
       "1       1889-01-02 12:00:00 -35.887649 -34.766162  141.1875  142.3125   \n",
       "2       1889-01-03 12:00:00 -35.887649 -34.766162  141.1875  142.3125   \n",
       "3       1889-01-04 12:00:00 -35.887649 -34.766162  141.1875  142.3125   \n",
       "4       1889-01-05 12:00:00 -35.887649 -34.766162  141.1875  142.3125   \n",
       "...                     ...        ...        ...       ...       ...   \n",
       "3035335 2014-12-27 12:00:00 -30.280211 -29.158723  152.4375  153.5625   \n",
       "3035336 2014-12-28 12:00:00 -30.280211 -29.158723  152.4375  153.5625   \n",
       "3035337 2014-12-29 12:00:00 -30.280211 -29.158723  152.4375  153.5625   \n",
       "3035338 2014-12-30 12:00:00 -30.280211 -29.158723  152.4375  153.5625   \n",
       "3035339 2014-12-31 12:00:00 -30.280211 -29.158723  152.4375  153.5625   \n",
       "\n",
       "         rain (mm/day)  \n",
       "0         4.265520e-17  \n",
       "1         2.728501e-20  \n",
       "2         5.221255e-24  \n",
       "3         2.869350e-17  \n",
       "4         2.290091e-15  \n",
       "...                ...  \n",
       "3035335   1.218327e+01  \n",
       "3035336   6.209972e-01  \n",
       "3035337   3.562820e-04  \n",
       "3035338   4.175968e+01  \n",
       "3035339   1.295304e-03  \n",
       "\n",
       "[3035340 rows x 6 columns]"
      ]
     },
     "execution_count": 5,
     "metadata": {},
     "output_type": "execute_result"
    }
   ],
   "source": [
    "#Test to check the command \n",
    "use_cols = [\"time\", \"lat_min\", \"lat_max\", \"lon_min\",\"lon_max\",\"rain (mm/day)\"]\n",
    "BCC_df = pd.read_csv(\"dailyrainfall/BCC-CSM2-MR_daily_rainfall_NSW.csv\", usecols=use_cols, parse_dates=[\"time\"])\n",
    "BCC_df"
   ]
  },
  {
   "cell_type": "code",
   "execution_count": 13,
   "id": "random-advocacy",
   "metadata": {},
   "outputs": [
    {
     "name": "stdout",
     "output_type": "stream",
     "text": [
      "peak memory: 1245.37 MiB, increment: 0.61 MiB\n",
      "dailyrainfall\\ACCESS-CM2_daily_rainfall_NSW.csv\n",
      "dailyrainfall\\ACCESS-ESM1-5_daily_rainfall_NSW.csv\n",
      "dailyrainfall\\AWI-ESM-1-1-LR_daily_rainfall_NSW.csv\n",
      "dailyrainfall\\BCC-CSM2-MR_daily_rainfall_NSW.csv\n",
      "dailyrainfall\\BCC-ESM1_daily_rainfall_NSW.csv\n",
      "dailyrainfall\\CanESM5_daily_rainfall_NSW.csv\n",
      "dailyrainfall\\CMCC-CM2-HR4_daily_rainfall_NSW.csv\n",
      "dailyrainfall\\CMCC-CM2-SR5_daily_rainfall_NSW.csv\n",
      "dailyrainfall\\CMCC-ESM2_daily_rainfall_NSW.csv\n",
      "dailyrainfall\\EC-Earth3-Veg-LR_daily_rainfall_NSW.csv\n",
      "dailyrainfall\\FGOALS-f3-L_daily_rainfall_NSW.csv\n",
      "dailyrainfall\\FGOALS-g3_daily_rainfall_NSW.csv\n",
      "dailyrainfall\\GFDL-CM4_daily_rainfall_NSW.csv\n",
      "dailyrainfall\\GFDL-ESM4_daily_rainfall_NSW.csv\n",
      "dailyrainfall\\INM-CM4-8_daily_rainfall_NSW.csv\n",
      "dailyrainfall\\INM-CM5-0_daily_rainfall_NSW.csv\n",
      "dailyrainfall\\KIOST-ESM_daily_rainfall_NSW.csv\n",
      "dailyrainfall\\MIROC6_daily_rainfall_NSW.csv\n",
      "dailyrainfall\\MPI-ESM-1-2-HAM_daily_rainfall_NSW.csv\n",
      "dailyrainfall\\MPI-ESM1-2-HR_daily_rainfall_NSW.csv\n",
      "dailyrainfall\\MPI-ESM1-2-LR_daily_rainfall_NSW.csv\n",
      "dailyrainfall\\MRI-ESM2-0_daily_rainfall_NSW.csv\n",
      "dailyrainfall\\NESM3_daily_rainfall_NSW.csv\n",
      "dailyrainfall\\NorESM2-LM_daily_rainfall_NSW.csv\n",
      "dailyrainfall\\NorESM2-MM_daily_rainfall_NSW.csv\n",
      "dailyrainfall\\SAM0-UNICON_daily_rainfall_NSW.csv\n",
      "dailyrainfall\\TaiESM1_daily_rainfall_NSW.csv\n",
      "Wall time: 6min 34s\n"
     ]
    }
   ],
   "source": [
    "%%time\n",
    "%memit\n",
    "# Join all data together\n",
    "#\n",
    "import pandas as pd\n",
    "use_cols = [\"time\", \"lat_min\", \"lat_max\", \"lon_min\",\"lon_max\",\"rain (mm/day)\"]\n",
    "files = glob.glob('dailyrainfall/*.csv')\n",
    "df = pd.DataFrame(columns = use_cols)\n",
    "for file in files:\n",
    "    if len(re.findall(r'NSW', file)) > 0: # Used to ignore rainfal SYD as it misses most columns\n",
    "        print(file)\n",
    "        df2 = (pd.read_csv(file,usecols=use_cols, parse_dates=[\"time\"]).\n",
    "               assign(model=re.findall(r'\\\\(.+?)_', file)[0]))\n",
    "        df = pd.concat([df, df2], axis=0)\n",
    "\n",
    "#df.to_csv(\"figshareairline/combined_data.csv\")"
   ]
  },
  {
   "cell_type": "code",
   "execution_count": null,
   "id": "rubber-beads",
   "metadata": {},
   "outputs": [],
   "source": []
  },
  {
   "cell_type": "markdown",
   "id": "mineral-special",
   "metadata": {},
   "source": [
    "### Load the combined CSV to memory and perform a simple EDA"
   ]
  },
  {
   "cell_type": "code",
   "execution_count": 12,
   "id": "seeing-gateway",
   "metadata": {},
   "outputs": [
    {
     "data": {
      "text/plain": [
       "(55385460, 7)"
      ]
     },
     "execution_count": 12,
     "metadata": {},
     "output_type": "execute_result"
    }
   ],
   "source": [
    "df.shape"
   ]
  },
  {
   "cell_type": "markdown",
   "id": "continued-translation",
   "metadata": {},
   "source": [
    "### Perform a simple EDA in R"
   ]
  },
  {
   "cell_type": "code",
   "execution_count": 6,
   "id": "colored-merit",
   "metadata": {},
   "outputs": [],
   "source": [
    "# Rachel and Rui"
   ]
  },
  {
   "cell_type": "code",
   "execution_count": null,
   "id": "original-search",
   "metadata": {},
   "outputs": [],
   "source": []
  }
 ],
 "metadata": {
  "kernelspec": {
   "display_name": "Python [conda env:525]",
   "language": "python",
   "name": "conda-env-525-py"
  },
  "language_info": {
   "codemirror_mode": {
    "name": "ipython",
    "version": 3
   },
   "file_extension": ".py",
   "mimetype": "text/x-python",
   "name": "python",
   "nbconvert_exporter": "python",
   "pygments_lexer": "ipython3",
   "version": "3.9.2"
  }
 },
 "nbformat": 4,
 "nbformat_minor": 5
}
